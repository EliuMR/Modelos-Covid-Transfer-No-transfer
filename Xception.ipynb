{
 "cells": [
  {
   "cell_type": "code",
   "execution_count": 1,
   "id": "63f11373",
   "metadata": {},
   "outputs": [],
   "source": [
    "train_dir = 'D:/Documentos/Estudio/Maestría/Aprendizaje_Computacional/Modelopropio/Database/Lung Segmentation Data/Lung Segmentation Data/Train' \n",
    "val_dir = 'D:/Documentos/Estudio/Maestría/Aprendizaje_Computacional/Modelopropio/Database/Lung Segmentation Data/Lung Segmentation Data/Val' \n",
    "test_dir = 'D:/Documentos/Estudio/Maestría/Aprendizaje_Computacional/Modelopropio/Database/Lung Segmentation Data/Lung Segmentation Data/Test'"
   ]
  },
  {
   "cell_type": "code",
   "execution_count": 10,
   "id": "206dacf2",
   "metadata": {},
   "outputs": [],
   "source": [
    "#ELEGIMOS LOS PARAMETROS\n",
    "from keras.preprocessing.image import ImageDataGenerator\n",
    "ih, iw = 224, 224 #tamano de la imagen\n",
    "input_shape = (ih, iw, 3) #forma de la imagen: alto ancho y numero de canales\n",
    "\n",
    "num_class = 2 #cuantas clases \n",
    "#epochs = 15 #cuantas veces entrenar. En cada epoch hace una mejora en los parametros\n",
    "\n",
    "batch_size = 32 #batch para hacer cada entrenamiento. Lee 50 'batch_size' imagenes antes de actualizar los parametros. Las carga a memoria\n",
    "num_train = 21715 #numero de imagenes en train\n",
    "num_test = 6788 #numero de imagenes en test\n",
    "num_val=5417\n",
    "\n",
    "epoch_steps = num_train // batch_size \n",
    "test_steps = num_test // batch_size\n",
    " "
   ]
  },
  {
   "cell_type": "code",
   "execution_count": 3,
   "id": "e3bf6d66",
   "metadata": {},
   "outputs": [
    {
     "name": "stdout",
     "output_type": "stream",
     "text": [
      "Found 14507 images belonging to 2 classes.\n",
      "Found 3615 images belonging to 2 classes.\n",
      "Found 4535 images belonging to 2 classes.\n"
     ]
    }
   ],
   "source": [
    "#LEEMOS LAS IMÁGENES \n",
    "\n",
    "img_height, img_width=ih, iw\n",
    "\n",
    "train_datagen = ImageDataGenerator(rescale=1./255)\n",
    "\n",
    "train_generator = train_datagen.flow_from_directory(\n",
    "    train_dir,\n",
    "    target_size=(img_height, img_width),\n",
    "    batch_size=batch_size,\n",
    "    class_mode='categorical') # set as training data\n",
    "\n",
    "validation_generator = train_datagen.flow_from_directory(\n",
    "    val_dir, # same directory as training data\n",
    "    target_size=(img_height, img_width),\n",
    "    batch_size=batch_size,\n",
    "    class_mode='categorical') # set as validation data\n",
    "\n",
    "test_generator = train_datagen.flow_from_directory(\n",
    "    test_dir, # same directory as training data\n",
    "    target_size=(img_height, img_width),\n",
    "    batch_size=batch_size,\n",
    "    class_mode='categorical') # set as validation data"
   ]
  },
  {
   "cell_type": "code",
   "execution_count": 4,
   "id": "bf9cb168",
   "metadata": {},
   "outputs": [],
   "source": [
    "train=train_generator\n",
    "val=validation_generator\n",
    "test=test_generator"
   ]
  },
  {
   "cell_type": "code",
   "execution_count": 5,
   "id": "95ee15f5",
   "metadata": {},
   "outputs": [],
   "source": [
    "import tensorflow as tf\n",
    "from tensorflow.keras.applications import Xception\n",
    "from tensorflow.keras.layers import Flatten,Dense,Dropout,BatchNormalization\n",
    "from tensorflow.keras.models import Model,Sequential\n",
    "from tensorflow.keras.utils import to_categorical\n",
    "from tensorflow.keras.layers import Conv2D, MaxPooling2D, BatchNormalization, GlobalAveragePooling2D, BatchNormalization\n",
    "from tensorflow.keras.callbacks import ReduceLROnPlateau, EarlyStopping\n",
    "from tensorflow.keras.regularizers import l2\n",
    "\n",
    "Xception_model = Xception(include_top=False, weights='imagenet',  \n",
    "                                     input_shape=input_shape) \n",
    "\n",
    "Xception_model.trainable=True"
   ]
  },
  {
   "cell_type": "code",
   "execution_count": 48,
   "id": "d1d6aed6",
   "metadata": {},
   "outputs": [],
   "source": [
    "#for layer in Xception_model.layers[:-40]:\n",
    "#    layer.trainable = False"
   ]
  },
  {
   "cell_type": "code",
   "execution_count": 6,
   "id": "c67c958e",
   "metadata": {},
   "outputs": [
    {
     "name": "stderr",
     "output_type": "stream",
     "text": [
      "C:\\Users\\elium\\.conda\\envs\\tfGPU\\lib\\site-packages\\ipykernel_launcher.py:2: FutureWarning: Passing a negative integer is deprecated in version 1.0 and will not be supported in future version. Instead, use None to not limit the column width.\n",
      "  \n"
     ]
    },
    {
     "data": {
      "text/html": [
       "<div>\n",
       "<style scoped>\n",
       "    .dataframe tbody tr th:only-of-type {\n",
       "        vertical-align: middle;\n",
       "    }\n",
       "\n",
       "    .dataframe tbody tr th {\n",
       "        vertical-align: top;\n",
       "    }\n",
       "\n",
       "    .dataframe thead th {\n",
       "        text-align: right;\n",
       "    }\n",
       "</style>\n",
       "<table border=\"1\" class=\"dataframe\">\n",
       "  <thead>\n",
       "    <tr style=\"text-align: right;\">\n",
       "      <th></th>\n",
       "      <th>Layer Type</th>\n",
       "      <th>Layer Name</th>\n",
       "      <th>Layer Trainable</th>\n",
       "    </tr>\n",
       "  </thead>\n",
       "  <tbody>\n",
       "    <tr>\n",
       "      <th>0</th>\n",
       "      <td>&lt;tensorflow.python.keras.engine.input_layer.InputLayer object at 0x000002004DBAF588&gt;</td>\n",
       "      <td>input_1</td>\n",
       "      <td>True</td>\n",
       "    </tr>\n",
       "    <tr>\n",
       "      <th>1</th>\n",
       "      <td>&lt;tensorflow.python.keras.layers.convolutional.Conv2D object at 0x000002004DBCF388&gt;</td>\n",
       "      <td>block1_conv1</td>\n",
       "      <td>True</td>\n",
       "    </tr>\n",
       "    <tr>\n",
       "      <th>2</th>\n",
       "      <td>&lt;tensorflow.python.keras.layers.normalization.BatchNormalization object at 0x0000020043BE1388&gt;</td>\n",
       "      <td>block1_conv1_bn</td>\n",
       "      <td>True</td>\n",
       "    </tr>\n",
       "    <tr>\n",
       "      <th>3</th>\n",
       "      <td>&lt;tensorflow.python.keras.layers.core.Activation object at 0x000002004DD1D808&gt;</td>\n",
       "      <td>block1_conv1_act</td>\n",
       "      <td>True</td>\n",
       "    </tr>\n",
       "    <tr>\n",
       "      <th>4</th>\n",
       "      <td>&lt;tensorflow.python.keras.layers.convolutional.Conv2D object at 0x000002004E528688&gt;</td>\n",
       "      <td>block1_conv2</td>\n",
       "      <td>True</td>\n",
       "    </tr>\n",
       "    <tr>\n",
       "      <th>...</th>\n",
       "      <td>...</td>\n",
       "      <td>...</td>\n",
       "      <td>...</td>\n",
       "    </tr>\n",
       "    <tr>\n",
       "      <th>127</th>\n",
       "      <td>&lt;tensorflow.python.keras.layers.normalization.BatchNormalization object at 0x00000202E6DA8548&gt;</td>\n",
       "      <td>block14_sepconv1_bn</td>\n",
       "      <td>True</td>\n",
       "    </tr>\n",
       "    <tr>\n",
       "      <th>128</th>\n",
       "      <td>&lt;tensorflow.python.keras.layers.core.Activation object at 0x00000202E6DA32C8&gt;</td>\n",
       "      <td>block14_sepconv1_act</td>\n",
       "      <td>True</td>\n",
       "    </tr>\n",
       "    <tr>\n",
       "      <th>129</th>\n",
       "      <td>&lt;tensorflow.python.keras.layers.convolutional.SeparableConv2D object at 0x00000202E6DAC3C8&gt;</td>\n",
       "      <td>block14_sepconv2</td>\n",
       "      <td>True</td>\n",
       "    </tr>\n",
       "    <tr>\n",
       "      <th>130</th>\n",
       "      <td>&lt;tensorflow.python.keras.layers.normalization.BatchNormalization object at 0x00000202E6DFF108&gt;</td>\n",
       "      <td>block14_sepconv2_bn</td>\n",
       "      <td>True</td>\n",
       "    </tr>\n",
       "    <tr>\n",
       "      <th>131</th>\n",
       "      <td>&lt;tensorflow.python.keras.layers.core.Activation object at 0x00000202E6E07308&gt;</td>\n",
       "      <td>block14_sepconv2_act</td>\n",
       "      <td>True</td>\n",
       "    </tr>\n",
       "  </tbody>\n",
       "</table>\n",
       "<p>132 rows × 3 columns</p>\n",
       "</div>"
      ],
      "text/plain": [
       "                                                                                         Layer Type  \\\n",
       "0    <tensorflow.python.keras.engine.input_layer.InputLayer object at 0x000002004DBAF588>             \n",
       "1    <tensorflow.python.keras.layers.convolutional.Conv2D object at 0x000002004DBCF388>               \n",
       "2    <tensorflow.python.keras.layers.normalization.BatchNormalization object at 0x0000020043BE1388>   \n",
       "3    <tensorflow.python.keras.layers.core.Activation object at 0x000002004DD1D808>                    \n",
       "4    <tensorflow.python.keras.layers.convolutional.Conv2D object at 0x000002004E528688>               \n",
       "..                                                                                  ...               \n",
       "127  <tensorflow.python.keras.layers.normalization.BatchNormalization object at 0x00000202E6DA8548>   \n",
       "128  <tensorflow.python.keras.layers.core.Activation object at 0x00000202E6DA32C8>                    \n",
       "129  <tensorflow.python.keras.layers.convolutional.SeparableConv2D object at 0x00000202E6DAC3C8>      \n",
       "130  <tensorflow.python.keras.layers.normalization.BatchNormalization object at 0x00000202E6DFF108>   \n",
       "131  <tensorflow.python.keras.layers.core.Activation object at 0x00000202E6E07308>                    \n",
       "\n",
       "               Layer Name  Layer Trainable  \n",
       "0    input_1               True             \n",
       "1    block1_conv1          True             \n",
       "2    block1_conv1_bn       True             \n",
       "3    block1_conv1_act      True             \n",
       "4    block1_conv2          True             \n",
       "..            ...           ...             \n",
       "127  block14_sepconv1_bn   True             \n",
       "128  block14_sepconv1_act  True             \n",
       "129  block14_sepconv2      True             \n",
       "130  block14_sepconv2_bn   True             \n",
       "131  block14_sepconv2_act  True             \n",
       "\n",
       "[132 rows x 3 columns]"
      ]
     },
     "execution_count": 6,
     "metadata": {},
     "output_type": "execute_result"
    }
   ],
   "source": [
    "import pandas as pd \n",
    "pd.set_option('max_colwidth', -1)\n",
    "\n",
    "layers = [(layer, layer.name, layer.trainable) for layer in Xception_model.layers] \n",
    "pd.DataFrame(layers, columns=['Layer Type', 'Layer Name', 'Layer Trainable'])"
   ]
  },
  {
   "cell_type": "code",
   "execution_count": 7,
   "id": "8413eaeb",
   "metadata": {},
   "outputs": [],
   "source": [
    "from keras import backend as K\n",
    "def recall_m(y_true, y_pred):\n",
    "    true_positives = K.sum(K.round(K.clip(y_true * y_pred, 0, 1)))\n",
    "    possible_positives = K.sum(K.round(K.clip(y_true, 0, 1)))\n",
    "    recall = true_positives / (possible_positives + K.epsilon())\n",
    "    return recall\n",
    "\n",
    "def precision_m(y_true, y_pred):\n",
    "    true_positives = K.sum(K.round(K.clip(y_true * y_pred, 0, 1)))\n",
    "    predicted_positives = K.sum(K.round(K.clip(y_pred, 0, 1)))\n",
    "    precision = true_positives / (predicted_positives + K.epsilon())\n",
    "    return precision\n",
    "\n",
    "def f1_m(y_true, y_pred):\n",
    "    precision = precision_m(y_true, y_pred)\n",
    "    recall = recall_m(y_true, y_pred)\n",
    "    return 2*((precision*recall)/(precision+recall+K.epsilon()))\n"
   ]
  },
  {
   "cell_type": "code",
   "execution_count": 28,
   "id": "bf353720",
   "metadata": {},
   "outputs": [
    {
     "name": "stdout",
     "output_type": "stream",
     "text": [
      "Model: \"sequential_3\"\n",
      "_________________________________________________________________\n",
      "Layer (type)                 Output Shape              Param #   \n",
      "=================================================================\n",
      "xception (Model)             (None, 7, 7, 2048)        20861480  \n",
      "_________________________________________________________________\n",
      "flatten_3 (Flatten)          (None, 100352)            0         \n",
      "_________________________________________________________________\n",
      "dense_4 (Dense)              (None, 2)                 200706    \n",
      "=================================================================\n",
      "Total params: 21,062,186\n",
      "Trainable params: 21,007,658\n",
      "Non-trainable params: 54,528\n",
      "_________________________________________________________________\n",
      "None\n"
     ]
    }
   ],
   "source": [
    "\n",
    "from tensorflow.keras.models import Model,Sequential\n",
    "from tensorflow.keras.utils import to_categorical \n",
    "from keras import optimizers \n",
    "from tensorflow.keras.layers import Conv2D, MaxPooling2D, BatchNormalization, GlobalAveragePooling2D, BatchNormalization\n",
    "# build model architecture \n",
    "model = Sequential()\n",
    "model.add(Xception_model)\n",
    "model.add(Flatten())\n",
    "#model.add(Dense(256, activation='relu'))\n",
    "#model.add(Dropout(0.2))\n",
    "model.add(Dense(num_class, activation='softmax'))\n",
    "#compile model\n",
    "model.compile(optimizer=tf.keras.optimizers.SGD(lr=0.001, momentum=0.9), \n",
    "      loss = tf.keras.losses.CategoricalCrossentropy(from_logits = True), \n",
    "      metrics=['accuracy',f1_m,precision_m, recall_m])\n",
    "print(model.summary())"
   ]
  },
  {
   "cell_type": "code",
   "execution_count": 29,
   "id": "dbe33857",
   "metadata": {},
   "outputs": [
    {
     "name": "stdout",
     "output_type": "stream",
     "text": [
      "WARNING:tensorflow:sample_weight modes were coerced from\n",
      "  ...\n",
      "    to  \n",
      "  ['...']\n",
      "WARNING:tensorflow:sample_weight modes were coerced from\n",
      "  ...\n",
      "    to  \n",
      "  ['...']\n",
      "Train for 64 steps, validate for 64 steps\n",
      "Epoch 1/10\n",
      "64/64 [==============================] - 39s 611ms/step - loss: 0.4080 - accuracy: 0.9062 - f1_m: 0.9062 - precision_m: 0.9062 - recall_m: 0.9062 - val_loss: 0.3718 - val_accuracy: 0.9414 - val_f1_m: 0.9414 - val_precision_m: 0.9414 - val_recall_m: 0.9414\n",
      "Epoch 2/10\n",
      "64/64 [==============================] - 35s 542ms/step - loss: 0.3696 - accuracy: 0.9434 - f1_m: 0.9434 - precision_m: 0.9434 - recall_m: 0.9434 - val_loss: 0.3765 - val_accuracy: 0.9370 - val_f1_m: 0.9370 - val_precision_m: 0.9370 - val_recall_m: 0.9370\n",
      "Epoch 3/10\n",
      "64/64 [==============================] - 35s 546ms/step - loss: 0.3563 - accuracy: 0.9600 - f1_m: 0.9600 - precision_m: 0.9600 - recall_m: 0.9600 - val_loss: 0.3601 - val_accuracy: 0.9541 - val_f1_m: 0.9541 - val_precision_m: 0.9541 - val_recall_m: 0.9541\n",
      "Epoch 4/10\n",
      "64/64 [==============================] - 34s 534ms/step - loss: 0.3444 - accuracy: 0.9683 - f1_m: 0.9683 - precision_m: 0.9683 - recall_m: 0.9683 - val_loss: 0.3635 - val_accuracy: 0.9497 - val_f1_m: 0.9497 - val_precision_m: 0.9497 - val_recall_m: 0.9497\n",
      "Epoch 5/10\n",
      "64/64 [==============================] - 34s 529ms/step - loss: 0.3473 - accuracy: 0.9669 - f1_m: 0.9673 - precision_m: 0.9673 - recall_m: 0.9673 - val_loss: 0.3565 - val_accuracy: 0.9570 - val_f1_m: 0.9570 - val_precision_m: 0.9570 - val_recall_m: 0.9570\n",
      "Epoch 6/10\n",
      "64/64 [==============================] - 34s 533ms/step - loss: 0.3391 - accuracy: 0.9741 - f1_m: 0.9741 - precision_m: 0.9741 - recall_m: 0.9741 - val_loss: 0.3555 - val_accuracy: 0.9585 - val_f1_m: 0.9585 - val_precision_m: 0.9585 - val_recall_m: 0.9585\n",
      "Epoch 7/10\n",
      "64/64 [==============================] - 34s 533ms/step - loss: 0.3372 - accuracy: 0.9766 - f1_m: 0.9766 - precision_m: 0.9766 - recall_m: 0.9766 - val_loss: 0.3529 - val_accuracy: 0.9595 - val_f1_m: 0.9595 - val_precision_m: 0.9595 - val_recall_m: 0.9595\n",
      "Epoch 8/10\n",
      "64/64 [==============================] - 34s 535ms/step - loss: 0.3398 - accuracy: 0.9741 - f1_m: 0.9741 - precision_m: 0.9741 - recall_m: 0.9741 - val_loss: 0.3608 - val_accuracy: 0.9487 - val_f1_m: 0.9487 - val_precision_m: 0.9487 - val_recall_m: 0.9487\n",
      "Epoch 9/10\n",
      "64/64 [==============================] - 34s 533ms/step - loss: 0.3353 - accuracy: 0.9800 - f1_m: 0.9800 - precision_m: 0.9800 - recall_m: 0.9800 - val_loss: 0.3570 - val_accuracy: 0.9575 - val_f1_m: 0.9575 - val_precision_m: 0.9575 - val_recall_m: 0.9575\n",
      "Epoch 10/10\n",
      "64/64 [==============================] - 34s 534ms/step - loss: 0.3345 - accuracy: 0.9795 - f1_m: 0.9795 - precision_m: 0.9795 - recall_m: 0.9795 - val_loss: 0.3506 - val_accuracy: 0.9634 - val_f1_m: 0.9634 - val_precision_m: 0.9634 - val_recall_m: 0.9634\n"
     ]
    }
   ],
   "source": [
    "history = model.fit_generator(train, steps_per_epoch=64, \n",
    "                              epochs=10,  \n",
    "                              validation_data=val,   \n",
    "                              validation_steps=64,  \n",
    "                              verbose=1)"
   ]
  },
  {
   "cell_type": "code",
   "execution_count": 14,
   "id": "fed1cd09",
   "metadata": {},
   "outputs": [
    {
     "data": {
      "image/png": "[encoded data removed]",
      "text/plain": [
       "<Figure size 432x288 with 1 Axes>"
      ]
     },
     "metadata": {
      "needs_background": "light"
     },
     "output_type": "display_data"
    }
   ],
   "source": [
    "# summarize history for accuracy\n",
    "import matplotlib.pyplot as plt\n",
    "plt.plot(history.history['accuracy'])\n",
    "plt.plot(history.history['val_accuracy'])\n",
    "plt.title('model accuracy')\n",
    "plt.ylabel('accuracy')\n",
    "plt.xlabel('epoch')\n",
    "plt.legend(['train', 'test'], loc='upper left')\n",
    "plt.show()"
   ]
  },
  {
   "cell_type": "code",
   "execution_count": 15,
   "id": "52bc0b29",
   "metadata": {},
   "outputs": [
    {
     "data": {
      "image/png": "[encoded data removed]",
      "text/plain": [
       "<Figure size 432x288 with 1 Axes>"
      ]
     },
     "metadata": {
      "needs_background": "light"
     },
     "output_type": "display_data"
    }
   ],
   "source": [
    "plt.plot(history.history['loss'])\n",
    "plt.plot(history.history['val_loss'])\n",
    "plt.title('model loss')\n",
    "plt.ylabel('loss')\n",
    "plt.xlabel('epoch')\n",
    "plt.legend(['train', 'test'], loc='upper left')\n",
    "plt.show()"
   ]
  },
  {
   "cell_type": "code",
   "execution_count": 16,
   "id": "f5bc20de",
   "metadata": {},
   "outputs": [
    {
     "data": {
      "image/png": "[encoded data removed]",
      "text/plain": [
       "<Figure size 432x288 with 1 Axes>"
      ]
     },
     "metadata": {
      "needs_background": "light"
     },
     "output_type": "display_data"
    }
   ],
   "source": [
    "plt.plot(history.history['f1_m'])\n",
    "plt.plot(history.history['val_f1_m'])\n",
    "plt.title('F1 Score')\n",
    "plt.ylabel('f1')\n",
    "plt.xlabel('epoch')\n",
    "plt.legend(['train', 'test'], loc='upper left')\n",
    "plt.show()"
   ]
  },
  {
   "cell_type": "code",
   "execution_count": 17,
   "id": "dd3ff1ce",
   "metadata": {},
   "outputs": [
    {
     "data": {
      "image/png": "[encoded data removed]",
      "text/plain": [
       "<Figure size 432x288 with 1 Axes>"
      ]
     },
     "metadata": {
      "needs_background": "light"
     },
     "output_type": "display_data"
    }
   ],
   "source": [
    "plt.plot(history.history['recall_m'])\n",
    "plt.plot(history.history['val_recall_m'])\n",
    "plt.title('Recall')\n",
    "plt.ylabel('recall')\n",
    "plt.xlabel('epoch')\n",
    "plt.legend(['train', 'test'], loc='upper left')\n",
    "plt.show()"
   ]
  },
  {
   "cell_type": "code",
   "execution_count": 18,
   "id": "b7ef3154",
   "metadata": {},
   "outputs": [
    {
     "data": {
      "image/png": "[encoded data removed]",
      "text/plain": [
       "<Figure size 432x288 with 1 Axes>"
      ]
     },
     "metadata": {
      "needs_background": "light"
     },
     "output_type": "display_data"
    }
   ],
   "source": [
    "plt.plot(history.history['precision_m'])\n",
    "plt.plot(history.history['val_precision_m'])\n",
    "plt.title('Precision')\n",
    "plt.ylabel('precision')\n",
    "plt.xlabel('epoch')\n",
    "plt.legend(['train', 'test'], loc='upper left')\n",
    "plt.show()"
   ]
  },
  {
   "cell_type": "code",
   "execution_count": 31,
   "id": "53d4cc27",
   "metadata": {},
   "outputs": [
    {
     "name": "stdout",
     "output_type": "stream",
     "text": [
      "WARNING:tensorflow:sample_weight modes were coerced from\n",
      "  ...\n",
      "    to  \n",
      "  ['...']\n",
      "142/142 [==============================] - 15s 104ms/step - loss: 0.3513 - accuracy: 0.9596 - f1_m: 0.9596 - precision_m: 0.9596 - recall_m: 0.9596\n",
      "El modelo predice el  95.96471786499023 % de los datos\n"
     ]
    }
   ],
   "source": [
    "test_eval = model.evaluate(test, verbose=1)\n",
    "print('El modelo predice el ', test_eval[1]*100,'% de los datos')"
   ]
  }
 ],
 "metadata": {
  "kernelspec": {
   "display_name": "tfGPU",
   "language": "python",
   "name": "tfgpu"
  },
  "language_info": {
   "codemirror_mode": {
    "name": "ipython",
    "version": 3
   },
   "file_extension": ".py",
   "mimetype": "text/x-python",
   "name": "python",
   "nbconvert_exporter": "python",
   "pygments_lexer": "ipython3",
   "version": "3.7.13"
  }
 },
 "nbformat": 4,
 "nbformat_minor": 5
}
